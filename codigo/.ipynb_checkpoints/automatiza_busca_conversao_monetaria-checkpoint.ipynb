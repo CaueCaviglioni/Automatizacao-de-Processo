{
 "cells": [
  {
   "cell_type": "markdown",
   "id": "million-aging",
   "metadata": {},
   "source": [
    "<h1>Bibliotecas</h1>"
   ]
  },
  {
   "cell_type": "code",
   "execution_count": 125,
   "id": "hollywood-haven",
   "metadata": {},
   "outputs": [],
   "source": [
    "import pandas as pd\n",
    "from selenium import webdriver\n",
    "from selenium.webdriver.common.keys import Keys\n",
    "from selenium.webdriver.chrome.options import Options\n",
    "import time\n",
    "from datetime import datetime"
   ]
  },
  {
   "cell_type": "markdown",
   "id": "qualified-chambers",
   "metadata": {},
   "source": [
    "<h1>1. Encontrar cotações do dólar e do euro.</h1>"
   ]
  },
  {
   "cell_type": "code",
   "execution_count": 128,
   "id": "grateful-piano",
   "metadata": {},
   "outputs": [
    {
     "name": "stdout",
     "output_type": "stream",
     "text": [
      "1 dólar = 5.240000 reais\n",
      "1 euro = 6.180000 reais\n"
     ]
    }
   ],
   "source": [
    "# Inicia o navegador\n",
    "navegador = webdriver.Chrome()\n",
    "\n",
    "# Abre uma aba do Chrome\n",
    "navegador.get('https://www.google.com')\n",
    "\n",
    "# Seleciona a parte de inserir busca e digita um texto\n",
    "navegador.find_element_by_xpath(\n",
    "    '/html/body/div[1]/div[3]/form/div[1]/div[1]/div[1]/div/div[2]/input').send_keys('conversão real dólar')\n",
    "\n",
    "# Enter na busca\n",
    "navegador.find_element_by_xpath(\n",
    "    '/html/body/div[1]/div[3]/form/div[1]/div[1]/div[1]/div/div[2]/input').send_keys(Keys.ENTER)\n",
    "\n",
    "# Seleciona o site de conversão monetária\n",
    "navegador.find_element_by_xpath(\n",
    "    '//*[@id=\"rso\"]/div[2]/div/div/div[1]/a/h3').click()\n",
    "\n",
    "# Pega o valor em dólar\n",
    "conversao_dolar = navegador.find_element_by_xpath('//*[@id=\"comercial\"]').get_attribute('value')\n",
    "\n",
    "time.sleep(2)\n",
    "\n",
    "# Pega o valor em euro\n",
    "navegador.find_element_by_xpath('//*[@id=\"moeda\"]').click()\n",
    "navegador.find_element_by_xpath('//*[@id=\"moeda\"]/option[11]').click()\n",
    "conversao_euro = navegador.find_element_by_xpath('//*[@id=\"comercial\"]').get_attribute('value')\n",
    "\n",
    "# Converte os valores obtidos de string para inteiro\n",
    "conversao_dolar = float(conversao_dolar.replace(',', '.'))\n",
    "conversao_euro = float(conversao_euro.replace(',', '.'))\n",
    "\n",
    "# Fecha o Chrome aberto\n",
    "navegador.quit()\n",
    "\n",
    "print('1 dólar = %f reais' % (conversao_dolar))\n",
    "print('1 euro = %f reais' % (conversao_euro))"
   ]
  },
  {
   "cell_type": "markdown",
   "id": "chemical-amazon",
   "metadata": {},
   "source": [
    "<h1>2. Funções que calculam um preço em reais em dólares e em euros.</h1>"
   ]
  },
  {
   "cell_type": "code",
   "execution_count": 129,
   "id": "selected-engagement",
   "metadata": {},
   "outputs": [],
   "source": [
    "def converte_preco_dolar(valor_em_real, taxa_conversao):\n",
    "    valor_em_dolar = valor_em_real/taxa_conversao\n",
    "    return valor_em_dolar"
   ]
  },
  {
   "cell_type": "code",
   "execution_count": 130,
   "id": "signed-wrapping",
   "metadata": {},
   "outputs": [],
   "source": [
    "def converte_preco_euro(valor_em_real, taxa_conversao):\n",
    "    valor_em_euro = valor_em_real/taxa_conversao\n",
    "    return valor_em_euro"
   ]
  },
  {
   "cell_type": "markdown",
   "id": "operating-turkey",
   "metadata": {},
   "source": [
    "<h1>3. Atualizar os valores dos produtos no documento csv</h1>"
   ]
  },
  {
   "cell_type": "code",
   "execution_count": 131,
   "id": "hawaiian-camping",
   "metadata": {},
   "outputs": [],
   "source": [
    "# Lê o documento\n",
    "df_produtos = pd.read_csv('../data/tabela_precos_produtos.csv')"
   ]
  },
  {
   "cell_type": "code",
   "execution_count": 132,
   "id": "coupled-humanitarian",
   "metadata": {},
   "outputs": [
    {
     "data": {
      "text/html": [
       "<div>\n",
       "<style scoped>\n",
       "    .dataframe tbody tr th:only-of-type {\n",
       "        vertical-align: middle;\n",
       "    }\n",
       "\n",
       "    .dataframe tbody tr th {\n",
       "        vertical-align: top;\n",
       "    }\n",
       "\n",
       "    .dataframe thead th {\n",
       "        text-align: right;\n",
       "    }\n",
       "</style>\n",
       "<table border=\"1\" class=\"dataframe\">\n",
       "  <thead>\n",
       "    <tr style=\"text-align: right;\">\n",
       "      <th></th>\n",
       "      <th>produto</th>\n",
       "      <th>preco_reais</th>\n",
       "      <th>preco_dolar</th>\n",
       "      <th>preco_euro</th>\n",
       "    </tr>\n",
       "  </thead>\n",
       "  <tbody>\n",
       "    <tr>\n",
       "      <th>0</th>\n",
       "      <td>lápis</td>\n",
       "      <td>2.0</td>\n",
       "      <td>0.0</td>\n",
       "      <td>0.0</td>\n",
       "    </tr>\n",
       "    <tr>\n",
       "      <th>1</th>\n",
       "      <td>borracha</td>\n",
       "      <td>1.5</td>\n",
       "      <td>0.0</td>\n",
       "      <td>0.0</td>\n",
       "    </tr>\n",
       "    <tr>\n",
       "      <th>2</th>\n",
       "      <td>estojo pequeno</td>\n",
       "      <td>8.5</td>\n",
       "      <td>0.0</td>\n",
       "      <td>0.0</td>\n",
       "    </tr>\n",
       "    <tr>\n",
       "      <th>3</th>\n",
       "      <td>estojo grande</td>\n",
       "      <td>15.5</td>\n",
       "      <td>0.0</td>\n",
       "      <td>0.0</td>\n",
       "    </tr>\n",
       "    <tr>\n",
       "      <th>4</th>\n",
       "      <td>caneta</td>\n",
       "      <td>3.9</td>\n",
       "      <td>0.0</td>\n",
       "      <td>0.0</td>\n",
       "    </tr>\n",
       "  </tbody>\n",
       "</table>\n",
       "</div>"
      ],
      "text/plain": [
       "          produto  preco_reais  preco_dolar  preco_euro\n",
       "0           lápis          2.0          0.0         0.0\n",
       "1        borracha          1.5          0.0         0.0\n",
       "2  estojo pequeno          8.5          0.0         0.0\n",
       "3   estojo grande         15.5          0.0         0.0\n",
       "4          caneta          3.9          0.0         0.0"
      ]
     },
     "execution_count": 132,
     "metadata": {},
     "output_type": "execute_result"
    }
   ],
   "source": [
    "# Visualização do documento\n",
    "df_produtos.head()"
   ]
  },
  {
   "cell_type": "code",
   "execution_count": 133,
   "id": "dominant-arthritis",
   "metadata": {},
   "outputs": [],
   "source": [
    "# Atualiza valores da coluna preco_dolar\n",
    "df_produtos['preco_dolar'] = df_produtos.apply(lambda x: converte_preco_dolar(x['preco_reais'], conversao_dolar), \n",
    "                                               axis = 1)"
   ]
  },
  {
   "cell_type": "code",
   "execution_count": 134,
   "id": "whole-visit",
   "metadata": {},
   "outputs": [],
   "source": [
    "# Atualiza valores da coluna preco_euro\n",
    "df_produtos['preco_euro'] = df_produtos.apply(lambda x: converte_preco_euro(x['preco_reais'], conversao_euro), \n",
    "                                              axis = 1)"
   ]
  },
  {
   "cell_type": "code",
   "execution_count": 135,
   "id": "chief-discount",
   "metadata": {},
   "outputs": [
    {
     "data": {
      "text/html": [
       "<div>\n",
       "<style scoped>\n",
       "    .dataframe tbody tr th:only-of-type {\n",
       "        vertical-align: middle;\n",
       "    }\n",
       "\n",
       "    .dataframe tbody tr th {\n",
       "        vertical-align: top;\n",
       "    }\n",
       "\n",
       "    .dataframe thead th {\n",
       "        text-align: right;\n",
       "    }\n",
       "</style>\n",
       "<table border=\"1\" class=\"dataframe\">\n",
       "  <thead>\n",
       "    <tr style=\"text-align: right;\">\n",
       "      <th></th>\n",
       "      <th>produto</th>\n",
       "      <th>preco_reais</th>\n",
       "      <th>preco_dolar</th>\n",
       "      <th>preco_euro</th>\n",
       "    </tr>\n",
       "  </thead>\n",
       "  <tbody>\n",
       "    <tr>\n",
       "      <th>0</th>\n",
       "      <td>lápis</td>\n",
       "      <td>2.0</td>\n",
       "      <td>0.381679</td>\n",
       "      <td>0.323625</td>\n",
       "    </tr>\n",
       "    <tr>\n",
       "      <th>1</th>\n",
       "      <td>borracha</td>\n",
       "      <td>1.5</td>\n",
       "      <td>0.286260</td>\n",
       "      <td>0.242718</td>\n",
       "    </tr>\n",
       "    <tr>\n",
       "      <th>2</th>\n",
       "      <td>estojo pequeno</td>\n",
       "      <td>8.5</td>\n",
       "      <td>1.622137</td>\n",
       "      <td>1.375405</td>\n",
       "    </tr>\n",
       "    <tr>\n",
       "      <th>3</th>\n",
       "      <td>estojo grande</td>\n",
       "      <td>15.5</td>\n",
       "      <td>2.958015</td>\n",
       "      <td>2.508091</td>\n",
       "    </tr>\n",
       "    <tr>\n",
       "      <th>4</th>\n",
       "      <td>caneta</td>\n",
       "      <td>3.9</td>\n",
       "      <td>0.744275</td>\n",
       "      <td>0.631068</td>\n",
       "    </tr>\n",
       "  </tbody>\n",
       "</table>\n",
       "</div>"
      ],
      "text/plain": [
       "          produto  preco_reais  preco_dolar  preco_euro\n",
       "0           lápis          2.0     0.381679    0.323625\n",
       "1        borracha          1.5     0.286260    0.242718\n",
       "2  estojo pequeno          8.5     1.622137    1.375405\n",
       "3   estojo grande         15.5     2.958015    2.508091\n",
       "4          caneta          3.9     0.744275    0.631068"
      ]
     },
     "execution_count": 135,
     "metadata": {},
     "output_type": "execute_result"
    }
   ],
   "source": [
    "# Visualiza os dados finais\n",
    "df_produtos.head()"
   ]
  },
  {
   "cell_type": "code",
   "execution_count": 136,
   "id": "necessary-norway",
   "metadata": {},
   "outputs": [],
   "source": [
    "# Cria um arquivo csv como os preços atualizados para determinado horário\n",
    "file_name = f'precos_atualizados_{datetime.now().strftime(\"%d-%m-%Y_%Hh%Mm%Ss\")}'\n",
    "df_produtos.to_csv(f'../atualizacoes/{file_name}.csv')"
   ]
  }
 ],
 "metadata": {
  "kernelspec": {
   "display_name": "Python 3",
   "language": "python",
   "name": "python3"
  },
  "language_info": {
   "codemirror_mode": {
    "name": "ipython",
    "version": 3
   },
   "file_extension": ".py",
   "mimetype": "text/x-python",
   "name": "python",
   "nbconvert_exporter": "python",
   "pygments_lexer": "ipython3",
   "version": "3.6.8"
  }
 },
 "nbformat": 4,
 "nbformat_minor": 5
}
